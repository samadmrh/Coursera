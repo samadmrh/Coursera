{
 "cells": [
  {
   "cell_type": "markdown",
   "id": "02886b54-53fe-4568-a351-74c170fb2381",
   "metadata": {},
   "source": [
    "### Exercise 2: Create markdown cell with title of the notebook"
   ]
  },
  {
   "cell_type": "markdown",
   "id": "818c7ff0-de92-4a4e-8f0b-c006d6221244",
   "metadata": {},
   "source": [
    "# Data Science Tools and Ecosystem"
   ]
  },
  {
   "cell_type": "markdown",
   "id": "e51de0c5-8146-4e6d-a22f-67891cd84059",
   "metadata": {},
   "source": [
    "### Exercise 3 - Create a markdown cell for an introduction"
   ]
  },
  {
   "cell_type": "markdown",
   "id": "9290a667-1ca5-42f9-8292-2206661510ad",
   "metadata": {},
   "source": [
    "In this notebook, Data Science Tools and Ecosystem are summarized."
   ]
  },
  {
   "cell_type": "markdown",
   "id": "1e85660c-bd6f-4275-9caf-641c84213603",
   "metadata": {},
   "source": [
    "### Exercise 10 - Insert a markdown cell to list Objectives"
   ]
  },
  {
   "cell_type": "markdown",
   "id": "74fd84c7-8713-468b-ac0b-198db48e39f9",
   "metadata": {
    "tags": []
   },
   "source": [
    "**Objectives:** \n",
    "- List popular languages for Data Science.\n",
    "- List popular tools for Data Science.\n",
    "- List popular libraries for Data Science."
   ]
  },
  {
   "cell_type": "markdown",
   "id": "30ca5cf5-ae5b-4fa2-9859-1a0fbd28e58d",
   "metadata": {
    "tags": []
   },
   "source": [
    "### Exercise 4 - Create a markdown cell to list data science languages"
   ]
  },
  {
   "cell_type": "markdown",
   "id": "d4a603e1-7f06-450d-afe3-74a45e7c3c79",
   "metadata": {},
   "source": [
    "Some of the popular languages that Data Scientists use are:\n",
    "1. Python\n",
    "2. R\n",
    "3. SQL"
   ]
  },
  {
   "cell_type": "markdown",
   "id": "98f566e3-f330-4400-9e15-eb393eef7e44",
   "metadata": {},
   "source": [
    "### Exercise 5 - Create a markdown cell to list data science libraries"
   ]
  },
  {
   "cell_type": "markdown",
   "id": "a9bbc7ec-d645-43ee-8564-1ace0286a32e",
   "metadata": {},
   "source": [
    "Some of the commonly used libraries used by Data Scientists include:\n",
    "1. Numpy\n",
    "2. Pandas\n",
    "3. scikit-learn"
   ]
  },
  {
   "cell_type": "markdown",
   "id": "9e8fdff2-3094-450e-8d3d-491b10543790",
   "metadata": {},
   "source": [
    "### Exercise 6 - Create a markdown cell with a table of Data Science tools"
   ]
  },
  {
   "cell_type": "markdown",
   "id": "1b868ab6-894b-4953-8c80-ebcd364e3723",
   "metadata": {},
   "source": [
    "|Data Science Tools |\n",
    "| ------ |\n",
    "| Jupyter Notebook |\n",
    "|RStudio |\n",
    "| Visual Studio Code (VS Code) |\n",
    "\n",
    "\n"
   ]
  },
  {
   "cell_type": "markdown",
   "id": "9e9aee56-9450-4a1e-9242-2543bc9f9198",
   "metadata": {},
   "source": [
    "### Exercise 7 - Create a markdown cell introducing arithmetic expression examples"
   ]
  },
  {
   "cell_type": "markdown",
   "id": "ea26a472-d452-42a8-b750-bd3f87888da2",
   "metadata": {},
   "source": [
    "### Below are a few examples of evaluating arithmetic expressions in Python."
   ]
  },
  {
   "cell_type": "markdown",
   "id": "49a2c52a-bb59-4b94-867a-aa1961b4147e",
   "metadata": {},
   "source": [
    "### Exercise 8 - Create a code cell to multiply and add numbers"
   ]
  },
  {
   "cell_type": "code",
   "execution_count": 1,
   "id": "84daf5fe-8244-4d4c-94c4-6655b6a54095",
   "metadata": {
    "tags": []
   },
   "outputs": [
    {
     "data": {
      "text/plain": [
       "17"
      ]
     },
     "execution_count": 1,
     "metadata": {},
     "output_type": "execute_result"
    }
   ],
   "source": [
    "# This a simple arithmetic expression to mutiply then add integers.\n",
    "(3*4)+5"
   ]
  },
  {
   "cell_type": "markdown",
   "id": "f4c0e5bd-8dd2-497c-9830-02ed1105f49e",
   "metadata": {},
   "source": [
    "### Exercise 9 - Create a code cell to convert minutes to hours"
   ]
  },
  {
   "cell_type": "code",
   "execution_count": 2,
   "id": "7aa1201d-0514-4642-8d83-2cdb479eea7d",
   "metadata": {
    "tags": []
   },
   "outputs": [],
   "source": [
    "# This will convert 200 minutes to hours by diving by 60"
   ]
  },
  {
   "cell_type": "code",
   "execution_count": 4,
   "id": "fb072912-3667-41c1-ad5d-a6fba4fe4688",
   "metadata": {
    "tags": []
   },
   "outputs": [
    {
     "name": "stdout",
     "output_type": "stream",
     "text": [
      "200 minutes is equal to 3.33333 hours.\n"
     ]
    }
   ],
   "source": [
    "minutes = 200\n",
    "hours = minutes / 60\n",
    "hours\n",
    "\n",
    "# Display the result in a text format\n",
    "print(f\"{minutes} minutes is equal to {hours:.5f} hours.\")"
   ]
  },
  {
   "cell_type": "markdown",
   "id": "30861651-f0fb-417b-8fd4-db26e503a167",
   "metadata": {},
   "source": [
    "### Exercise 11 - Create a markdown cell to indicate the Author's name"
   ]
  },
  {
   "cell_type": "markdown",
   "id": "2e52980a-43aa-4eff-8ed7-cba22794212f",
   "metadata": {},
   "source": [
    "## Author\n",
    "Abdessamad Mrhizou"
   ]
  },
  {
   "cell_type": "code",
   "execution_count": null,
   "id": "4de8147e-bd6b-41f3-8bed-0fcb12a139a4",
   "metadata": {},
   "outputs": [],
   "source": []
  }
 ],
 "metadata": {
  "kernelspec": {
   "display_name": "Python",
   "language": "python",
   "name": "conda-env-python-py"
  },
  "language_info": {
   "codemirror_mode": {
    "name": "ipython",
    "version": 3
   },
   "file_extension": ".py",
   "mimetype": "text/x-python",
   "name": "python",
   "nbconvert_exporter": "python",
   "pygments_lexer": "ipython3",
   "version": "3.7.12"
  }
 },
 "nbformat": 4,
 "nbformat_minor": 5
}
